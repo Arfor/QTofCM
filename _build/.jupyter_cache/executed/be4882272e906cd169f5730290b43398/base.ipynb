{
 "cells": [
  {
   "cell_type": "code",
   "execution_count": 1,
   "id": "1228cf38-fa5c-4141-b5d6-0572512618b2",
   "metadata": {},
   "outputs": [],
   "source": [
    "import numpy as np\n",
    "from numpy import linalg as LA\n",
    "# import sympy as sp\n",
    "# from sympy.functions import exp\n",
    "from matplotlib import pyplot as plt\n",
    "from __future__ import print_function\n",
    "from ipywidgets import interact, interactive, fixed, interact_manual\n",
    "import ipywidgets as widgets\n",
    "\n",
    "Pi=np.pi"
   ]
  },
  {
   "cell_type": "code",
   "execution_count": 2,
   "id": "957d82d4-b1bf-459e-a5d6-778bd629496a",
   "metadata": {},
   "outputs": [],
   "source": [
    "class ssh_PBC_bands:\n",
    "    def __init__(self,t1,t2,eps=0):\n",
    "        self.t1=t1\n",
    "        self.t2=t2\n",
    "        self.eps=eps\n",
    "        self.nrofbands=2\n",
    "    \n",
    "    def bands(self,k):\n",
    "        return [-np.sqrt(self.eps**2+self.t1**2+self.t2**2+2*self.t1*self.t2*np.cos(k)), \n",
    "                np.sqrt(self.eps**2+self.t1**2+self.t2**2+2*self.t1*self.t2*np.cos(k))]\n",
    "\n",
    "    def H12(self,k):\n",
    "        return self.t1+self.t2*np.exp(1j*k)\n",
    "\n",
    "    def plot_bands(self,kmin,kmax,newt1,newt2):\n",
    "        self.t1=newt1\n",
    "        self.t2=newt2\n",
    "        ks = np.linspace(kmin, kmax)\n",
    "        spectrum=np.empty((len(ks),self.nrofbands))\n",
    "        for i in range(len(ks)):\n",
    "          spectrum[i]=(self.bands(ks[i])/np.abs(self.t1))\n",
    "        spectrum=np.transpose(spectrum)\n",
    "        #print(spectrum)\n",
    "        ### Plot\n",
    "        fig, ax=plt.subplots(1,2,figsize=(6,4))\n",
    "        ax[0].set_xlim(kmin, kmax)\n",
    "        ax[0].set_xticks(np.arange(np.ceil(kmin),np.ceil(kmax)))\n",
    "        ax[0].set_xlabel(\"$k$\")\n",
    "        ymax = 1.1*(np.abs(self.t1)+np.abs(self.t2))\n",
    "        ax[0].set_ylim(-ymax, ymax)\n",
    "        ax[0].set_yticks([-np.abs(self.t1+self.t2),0,np.abs(self.t1+self.t2),np.abs(self.t1-self.t2)])\n",
    "        ax[0].set_ylabel(\"$E/|t_1|$\")\n",
    "        ax[0].set_title(\"Infinite chain bands: $t_1=$\"+str(self.t1)+\", $t_2=$\"+str(self.t2))\n",
    "        ###\n",
    "        for i in range(self.nrofbands):\n",
    "          ax[0].plot(ks, spectrum[i], \"black\")\n",
    "\n",
    "        emax=1.1*(np.abs(self.t1)+np.abs(self.t2))\n",
    "        ax[1].set_aspect('equal','box')\n",
    "        ax[1].set_xlim(-emax,emax)\n",
    "        ax[1].set_xticks([-np.abs(self.t1)-np.abs(self.t2),0,np.abs(self.t1)+np.abs(self.t2)])\n",
    "        ax[1].set_xlabel(\"Re[$H_{12}(k)$]\")\n",
    "        ax[1].set_ylim(-emax,emax)\n",
    "        ax[1].set_yticks([-np.abs(self.t1)-np.abs(self.t2),0,np.abs(self.t1)+np.abs(self.t2)])\n",
    "        ax[1].set_ylabel(\"Im[$H_{12}(k)$]\")\n",
    "        ax[1].set_title(\"Winding: $t_1=$\"+str(self.t1)+\", $t_2=$\"+str(self.t2))\n",
    "        ###\n",
    "        ax[1].plot(np.real(self.H12(ks)),np.imag(self.H12(ks)), \"blue\")\n",
    "        ax[1].scatter([0],[0])\n",
    "\n",
    "        plt.tight_layout()\n",
    "        plt.show()\n",
    "\n",
    "#CHECK the PBC spectrum\n",
    "#testm=sp.Matrix([[eps, t1+t2*exp(1j*k)], [t1+t2*exp(-1j*k), -eps]])\n",
    "#t1, t2, k, eps = sp.symbols('t1 t2 k eps')\n",
    "#print(\"Eigenvalues:\")\n",
    "#print(testm.eigenvals())"
   ]
  },
  {
   "cell_type": "code",
   "execution_count": 3,
   "id": "d1b7aac4-2146-46dd-b951-7ac3dd8298f8",
   "metadata": {},
   "outputs": [
    {
     "data": {
      "application/vnd.jupyter.widget-view+json": {
       "model_id": "46dbc74d0bc54f779a8b23d4a8b40610",
       "version_major": 2,
       "version_minor": 0
      },
      "text/plain": [
       "interactive(children=(FloatSlider(value=0.0, description='t2', max=2.0, min=-2.0, step=0.05), Output()), _dom_…"
      ]
     },
     "metadata": {},
     "output_type": "display_data"
    }
   ],
   "source": [
    "t1=1\n",
    "intb=ssh_PBC_bands(t1,0,0)\n",
    "def f(t2):\n",
    "    return intb.plot_bands(-Pi,Pi,t1,t2)\n",
    "interact(f,t2=widgets.FloatSlider(min=-2,max=2,step=0.05,value=0));"
   ]
  }
 ],
 "metadata": {
  "kernelspec": {
   "display_name": "Python 3 (ipykernel)",
   "language": "python",
   "name": "python3"
  },
  "language_info": {
   "codemirror_mode": {
    "name": "ipython",
    "version": 3
   },
   "file_extension": ".py",
   "mimetype": "text/x-python",
   "name": "python",
   "nbconvert_exporter": "python",
   "pygments_lexer": "ipython3",
   "version": "3.9.7"
  },
  "widgets": {
   "application/vnd.jupyter.widget-state+json": {
    "state": {
     "0b26d61030d64b31a580a7fe0aac5169": {
      "model_module": "@jupyter-widgets/base",
      "model_module_version": "1.2.0",
      "model_name": "LayoutModel",
      "state": {
       "_model_module": "@jupyter-widgets/base",
       "_model_module_version": "1.2.0",
       "_model_name": "LayoutModel",
       "_view_count": null,
       "_view_module": "@jupyter-widgets/base",
       "_view_module_version": "1.2.0",
       "_view_name": "LayoutView",
       "align_content": null,
       "align_items": null,
       "align_self": null,
       "border": null,
       "bottom": null,
       "display": null,
       "flex": null,
       "flex_flow": null,
       "grid_area": null,
       "grid_auto_columns": null,
       "grid_auto_flow": null,
       "grid_auto_rows": null,
       "grid_column": null,
       "grid_gap": null,
       "grid_row": null,
       "grid_template_areas": null,
       "grid_template_columns": null,
       "grid_template_rows": null,
       "height": null,
       "justify_content": null,
       "justify_items": null,
       "left": null,
       "margin": null,
       "max_height": null,
       "max_width": null,
       "min_height": null,
       "min_width": null,
       "object_fit": null,
       "object_position": null,
       "order": null,
       "overflow": null,
       "overflow_x": null,
       "overflow_y": null,
       "padding": null,
       "right": null,
       "top": null,
       "visibility": null,
       "width": null
      }
     },
     "3012c3c701f8417091e0d14ab71068d7": {
      "model_module": "@jupyter-widgets/controls",
      "model_module_version": "1.5.0",
      "model_name": "SliderStyleModel",
      "state": {
       "_model_module": "@jupyter-widgets/controls",
       "_model_module_version": "1.5.0",
       "_model_name": "SliderStyleModel",
       "_view_count": null,
       "_view_module": "@jupyter-widgets/base",
       "_view_module_version": "1.2.0",
       "_view_name": "StyleView",
       "description_width": "",
       "handle_color": null
      }
     },
     "4518183c82f4449bacae0707f0788566": {
      "model_module": "@jupyter-widgets/controls",
      "model_module_version": "1.5.0",
      "model_name": "FloatSliderModel",
      "state": {
       "_dom_classes": [],
       "_model_module": "@jupyter-widgets/controls",
       "_model_module_version": "1.5.0",
       "_model_name": "FloatSliderModel",
       "_view_count": null,
       "_view_module": "@jupyter-widgets/controls",
       "_view_module_version": "1.5.0",
       "_view_name": "FloatSliderView",
       "continuous_update": true,
       "description": "t2",
       "description_tooltip": null,
       "disabled": false,
       "layout": "IPY_MODEL_715e451b88e245cab7f83bddeb1d7129",
       "max": 2.0,
       "min": -2.0,
       "orientation": "horizontal",
       "readout": true,
       "readout_format": ".2f",
       "step": 0.05,
       "style": "IPY_MODEL_3012c3c701f8417091e0d14ab71068d7",
       "value": 0.0
      }
     },
     "46dbc74d0bc54f779a8b23d4a8b40610": {
      "model_module": "@jupyter-widgets/controls",
      "model_module_version": "1.5.0",
      "model_name": "VBoxModel",
      "state": {
       "_dom_classes": [
        "widget-interact"
       ],
       "_model_module": "@jupyter-widgets/controls",
       "_model_module_version": "1.5.0",
       "_model_name": "VBoxModel",
       "_view_count": null,
       "_view_module": "@jupyter-widgets/controls",
       "_view_module_version": "1.5.0",
       "_view_name": "VBoxView",
       "box_style": "",
       "children": [
        "IPY_MODEL_4518183c82f4449bacae0707f0788566",
        "IPY_MODEL_b90d9bb6e58d4ba0a182d9338bc64a35"
       ],
       "layout": "IPY_MODEL_8ddf1c5759254e69b40f5ea4986f49b4"
      }
     },
     "715e451b88e245cab7f83bddeb1d7129": {
      "model_module": "@jupyter-widgets/base",
      "model_module_version": "1.2.0",
      "model_name": "LayoutModel",
      "state": {
       "_model_module": "@jupyter-widgets/base",
       "_model_module_version": "1.2.0",
       "_model_name": "LayoutModel",
       "_view_count": null,
       "_view_module": "@jupyter-widgets/base",
       "_view_module_version": "1.2.0",
       "_view_name": "LayoutView",
       "align_content": null,
       "align_items": null,
       "align_self": null,
       "border": null,
       "bottom": null,
       "display": null,
       "flex": null,
       "flex_flow": null,
       "grid_area": null,
       "grid_auto_columns": null,
       "grid_auto_flow": null,
       "grid_auto_rows": null,
       "grid_column": null,
       "grid_gap": null,
       "grid_row": null,
       "grid_template_areas": null,
       "grid_template_columns": null,
       "grid_template_rows": null,
       "height": null,
       "justify_content": null,
       "justify_items": null,
       "left": null,
       "margin": null,
       "max_height": null,
       "max_width": null,
       "min_height": null,
       "min_width": null,
       "object_fit": null,
       "object_position": null,
       "order": null,
       "overflow": null,
       "overflow_x": null,
       "overflow_y": null,
       "padding": null,
       "right": null,
       "top": null,
       "visibility": null,
       "width": null
      }
     },
     "8ddf1c5759254e69b40f5ea4986f49b4": {
      "model_module": "@jupyter-widgets/base",
      "model_module_version": "1.2.0",
      "model_name": "LayoutModel",
      "state": {
       "_model_module": "@jupyter-widgets/base",
       "_model_module_version": "1.2.0",
       "_model_name": "LayoutModel",
       "_view_count": null,
       "_view_module": "@jupyter-widgets/base",
       "_view_module_version": "1.2.0",
       "_view_name": "LayoutView",
       "align_content": null,
       "align_items": null,
       "align_self": null,
       "border": null,
       "bottom": null,
       "display": null,
       "flex": null,
       "flex_flow": null,
       "grid_area": null,
       "grid_auto_columns": null,
       "grid_auto_flow": null,
       "grid_auto_rows": null,
       "grid_column": null,
       "grid_gap": null,
       "grid_row": null,
       "grid_template_areas": null,
       "grid_template_columns": null,
       "grid_template_rows": null,
       "height": null,
       "justify_content": null,
       "justify_items": null,
       "left": null,
       "margin": null,
       "max_height": null,
       "max_width": null,
       "min_height": null,
       "min_width": null,
       "object_fit": null,
       "object_position": null,
       "order": null,
       "overflow": null,
       "overflow_x": null,
       "overflow_y": null,
       "padding": null,
       "right": null,
       "top": null,
       "visibility": null,
       "width": null
      }
     },
     "b90d9bb6e58d4ba0a182d9338bc64a35": {
      "model_module": "@jupyter-widgets/output",
      "model_module_version": "1.0.0",
      "model_name": "OutputModel",
      "state": {
       "_dom_classes": [],
       "_model_module": "@jupyter-widgets/output",
       "_model_module_version": "1.0.0",
       "_model_name": "OutputModel",
       "_view_count": null,
       "_view_module": "@jupyter-widgets/output",
       "_view_module_version": "1.0.0",
       "_view_name": "OutputView",
       "layout": "IPY_MODEL_0b26d61030d64b31a580a7fe0aac5169",
       "msg_id": "",
       "outputs": [
        {
         "data": {
          "image/png": "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\n",
          "text/plain": "<Figure size 432x288 with 2 Axes>"
         },
         "metadata": {
          "needs_background": "light"
         },
         "output_type": "display_data"
        }
       ]
      }
     }
    },
    "version_major": 2,
    "version_minor": 0
   }
  }
 },
 "nbformat": 4,
 "nbformat_minor": 5
}