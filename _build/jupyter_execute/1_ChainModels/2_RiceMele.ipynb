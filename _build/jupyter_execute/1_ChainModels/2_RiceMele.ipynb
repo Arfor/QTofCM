{
 "cells": [
  {
   "cell_type": "markdown",
   "id": "46585ca5-b0db-40fa-9272-be73469c33c5",
   "metadata": {},
   "source": [
    "# The Rice-Mele (RM) model\n",
    "\n",
    "The Rice-Mele (RM) model adds another term to the SSH model."
   ]
  },
  {
   "cell_type": "markdown",
   "id": "b9ddd5a6-ba30-4884-8df2-0408ff8ce7f9",
   "metadata": {},
   "source": [
    "---------------\n",
    "## The RM model on open chain\n",
    "These are the same results as for the open SSH model chain as seen before, except we choose a non-zero value of $\\epsilon$ to study the RM model."
   ]
  },
  {
   "cell_type": "code",
   "execution_count": 1,
   "id": "1bbd610e-4da0-42e2-a19a-5dbb0b593825",
   "metadata": {},
   "outputs": [
    {
     "ename": "NameError",
     "evalue": "name 'ssh_open' is not defined",
     "output_type": "error",
     "traceback": [
      "\u001b[1;31m---------------------------------------------------------------------------\u001b[0m",
      "\u001b[1;31mNameError\u001b[0m                                 Traceback (most recent call last)",
      "\u001b[1;32m~\\AppData\\Local\\Temp/ipykernel_15456/1847646414.py\u001b[0m in \u001b[0;36m<module>\u001b[1;34m\u001b[0m\n\u001b[1;32m----> 1\u001b[1;33m \u001b[0mop\u001b[0m\u001b[1;33m=\u001b[0m\u001b[0mssh_open\u001b[0m\u001b[1;33m(\u001b[0m\u001b[1;36m6\u001b[0m\u001b[1;33m,\u001b[0m\u001b[1;36m1\u001b[0m\u001b[1;33m,\u001b[0m\u001b[1;36m1.6\u001b[0m\u001b[1;33m,\u001b[0m\u001b[1;36m0.2\u001b[0m\u001b[1;33m)\u001b[0m\u001b[1;33m\u001b[0m\u001b[1;33m\u001b[0m\u001b[0m\n\u001b[0m\u001b[0;32m      2\u001b[0m \u001b[0mop\u001b[0m\u001b[1;33m.\u001b[0m\u001b[0mham_print\u001b[0m\u001b[1;33m(\u001b[0m\u001b[1;33m)\u001b[0m\u001b[1;33m\u001b[0m\u001b[1;33m\u001b[0m\u001b[0m\n",
      "\u001b[1;31mNameError\u001b[0m: name 'ssh_open' is not defined"
     ]
    }
   ],
   "source": [
    "op=ssh_open(6,1,1.6,0.2)\n",
    "op.ham_print()"
   ]
  },
  {
   "cell_type": "code",
   "execution_count": null,
   "id": "325e7b44-4516-4c73-a8bb-7916b0ab4d0a",
   "metadata": {},
   "outputs": [],
   "source": [
    "L=28\n",
    "t1=1\n",
    "t2=1.6\n",
    "eps=0.2\n",
    "index=int(np.floor(L/2)-1)\n",
    "op=ssh_open(L,t1,t2,eps)\n",
    "plot=1\n",
    "op.spectrum(L, t1, t2,plot);\n",
    "#op.wfs(index,L,t1,t2)"
   ]
  }
 ],
 "metadata": {
  "kernelspec": {
   "display_name": "Python 3 (ipykernel)",
   "language": "python",
   "name": "python3"
  },
  "language_info": {
   "codemirror_mode": {
    "name": "ipython",
    "version": 3
   },
   "file_extension": ".py",
   "mimetype": "text/x-python",
   "name": "python",
   "nbconvert_exporter": "python",
   "pygments_lexer": "ipython3",
   "version": "3.9.7"
  }
 },
 "nbformat": 4,
 "nbformat_minor": 5
}