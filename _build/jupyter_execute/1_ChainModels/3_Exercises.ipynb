{
 "cells": [
  {
   "cell_type": "markdown",
   "id": "8877a8a7",
   "metadata": {},
   "source": [
    "# Exercises\n",
    "----------\n",
    "The exercises below are supposed to be done *before* class and will be discussed *in* class. To learn most from the exercises you are encouraged to try, fail and succeed as many of them as you can.\n",
    "\n",
    "## SSH Bulk & Topology\n",
    "1. The Born-von Karman implementation of PBC says that translation by $Na$ has to be the identity operator, hence $e^{ik(Na)}= 1$. Find the allowed momenta in the first Brillouin Zone (BZ). How many are there?\n",
    "\n",
    "\t```{tip} \n",
    "\t:class: dropdown\n",
    "\tThe first Brillouin Zone is where $k = ]-\\pi,\\pi]$. Electrons are fermions and every unit cell contains one electron. How many states would you minimally need?\n",
    "\t```\n",
    "2. Rewrite $H^{PBC}$ in the momentum basis using the momentum states\n",
    "\t\n",
    "\t$$\n",
    "\t\\ket{k\\alpha} \\equiv \\frac{1}{\\sqrt{N}} \\sum^N_{i=1}e^{ikna}\\ket{n,\\alpha}, \\ket{n,\\alpha} \\equiv \\frac{1}{\\sqrt{N}} \\sum_{k\\in BZ}e^{-ikna}\\ket{k\\alpha},\n",
    "\t$$\n",
    "\t\n",
    "\tand identity $\\sum^N_{n=1}e^{i2\\pi mn/N}=N\\delta_{m,0}$ for $m=0,...,N-1$.\n",
    "\n",
    "3. Plot the path of $f_k$ in the complex plane as one varies $k \\in BZ$, contrasting the cases $t'>t$ and $t'<t$. What happens to the path and to th bandstructure when $t=t'$? Identify the origin of the complex plane as the key point and contrast the two cases in terms of a *winding number* $W(t,t')$ around the origin.\n",
    "\t```{admonition} Spoiler!\n",
    "\t:class: warning, dropdown\n",
    "\tTD: Insert plot of the path of $f_k$\n",
    "\t```\n",
    "4. A way to characterize the bandstructure is through the *Berry phase* $\\gamma$ of the band eigenstates:\n",
    "\t\n",
    "\t$$\n",
    "\t\\gamma_{\\pm} = i \\int^{2\\pi /a}_{0}dk<\\psi_{k\\pm}|\\partial_k|\\psi_{k\\pm}>\n",
    "\t$$ (berryPhase)\n",
    "\t\n",
    "\tWhat is the relationship of $W(t,t')$ and $\\gamma_{\\pm}(t,t')$?\n",
    "\n",
    "## SSH Open Chain & Edge States\n",
    "\n",
    "## Rice Mele Chain: Symmetry & Edge Modes\n",
    "\n",
    "## Numerical & Graphical Exploration\n",
    "\n",
    "## Generalization of the SSH Chain"
   ]
  }
 ],
 "metadata": {
  "jupytext": {
   "cell_metadata_filter": "-all",
   "formats": "md:myst",
   "text_representation": {
    "extension": ".md",
    "format_name": "myst",
    "format_version": 0.13,
    "jupytext_version": "1.10.3"
   }
  },
  "kernelspec": {
   "display_name": "Python 3 (ipykernel)",
   "language": "python",
   "name": "python3"
  },
  "language_info": {
   "codemirror_mode": {
    "name": "ipython",
    "version": 3
   },
   "file_extension": ".py",
   "mimetype": "text/x-python",
   "name": "python",
   "nbconvert_exporter": "python",
   "pygments_lexer": "ipython3",
   "version": "3.9.7"
  },
  "source_map": [
   14
  ]
 },
 "nbformat": 4,
 "nbformat_minor": 5
}