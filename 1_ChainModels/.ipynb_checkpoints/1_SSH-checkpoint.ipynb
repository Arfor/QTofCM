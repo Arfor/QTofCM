{
 "cells": [
  {
   "cell_type": "markdown",
   "id": "cf3662cf-9dec-4911-8739-78aa1a9e9007",
   "metadata": {
    "tags": []
   },
   "source": [
    "# The Su-Schrieffer-Heeger(SSH) model\n",
    "\n",
    "The Su-Schrieffer-Heeger (SSH) model was constructed to describe the electronic properties of polymer chains. As a one-dimensional system it of- fers the simplest demonstration of concepts of edge states and topological electronic states, which are a central topic of condensed-matter physics in the past decades.\n",
    "\n",
    "Both the SSH model and the Rice-Mele (RM) model are defined on the same chain of lattice sites along which an electron can hop. In the SSH model there are exactly two types of hopping whose energies are $t_{1}$, $t_2$ and they alternate along the chain, producing a unit-cell with two atoms (A and B):\n",
    "\n",
    "<img src='https://drive.google.com/uc?id=1V5UOubwUue-RKpo8HZnbA5MMepf_u_r3' width=\"500\">\n",
    "\n",
    "The RM model adds an on-site potential +(-)$\\epsilon$ on all A(B) sites. Combined, for an open chain of $N$ unit-cells the tight-binding Hamiltonian used in this notebook is in the form:\n",
    "\n",
    "$$\n",
    "H_N=\\sum_{i=1}^{2N} t_{i,i+1}\\left(|\\phi_{i+1}\\rangle\\langle\\phi_i|+|\\phi_i\\rangle\\langle\\phi_{i+1}|\\right)-(-1)^i \\epsilon|\\phi_{i}\\rangle\\langle\\phi_i|,\\;\\;\\;\\;t_{i,i+1}\\equiv\\begin{cases}t_1,&i\\in\\textrm{odd}\\\\t_2,&i\\in\\textrm{even}\\\\\\end{cases},\n",
    "$$\n",
    "\n",
    "where $\\epsilon\\equiv0$ in the SSH model, while $|\\phi_i\\rangle$ are an orthonormalized basis of states of an electron localized on site $i$.\n",
    "\n",
    "For an infinite chain the bandstructure is: $$E_\\pm(k)=\\pm\\sqrt{t_1^2+t_2^2+2t_1 t_2 cos(k)},$$ with the first Brillouin zone given by $k\\in[-\\pi,\\pi)$, and we set the lattice constant (i.e., the $A-A$ distance) $a\\equiv1$ throughout.\n",
    "\n",
    "For a finite chain with periodic boundary conditions (PBC), the discrete spectrum is given by $E_\\pm(k_m)$, where $k_m=2\\pi\\frac{m}{N}$ with $m=0,1\\ldots N-1$ (which is equivalent to $k$ values in the first BZ).\n"
   ]
  },
  {
   "cell_type": "markdown",
   "id": "12d86be6-8630-40e3-814b-1d65810ca71e",
   "metadata": {},
   "source": [
    "------------\n",
    "## Import python packages, define constants"
   ]
  },
  {
   "cell_type": "code",
   "execution_count": 1,
   "id": "1228cf38-fa5c-4141-b5d6-0572512618b2",
   "metadata": {},
   "outputs": [],
   "source": [
    "import numpy as np\n",
    "from numpy import linalg as LA\n",
    "# import sympy as sp\n",
    "# from sympy.functions import exp\n",
    "from matplotlib import pyplot as plt\n",
    "from __future__ import print_function\n",
    "from ipywidgets import interact, interactive, fixed, interact_manual\n",
    "import ipywidgets as widgets\n",
    "\n",
    "Pi=np.pi"
   ]
  },
  {
   "cell_type": "markdown",
   "id": "c32a4c3a-f2bc-4c87-894b-cc8f6b0b20fe",
   "metadata": {},
   "source": [
    "## Define and solve SSH models with PBC\n",
    "### Infinite chain with PBC: Bands\n",
    "\n",
    "**ssh_PBC_bands($t_1$,$t_2$,$\\epsilon$)** is a class containing the continuous bands of an infinite chain.\n",
    "\n",
    "**plot_bands($k_{min}$,$k_{max}$,$T_1$,$T_2$)** function plots two panels: (left) The bandstructure over the range $k\\in[k_{min},k_{max}]$, after imposing the new values $t_1\\equiv T_1$, $t_2\\equiv T_2$; (right) The trace of $f^*_k$ in the complex plane (blue dot is the origin), over the range of $k$."
   ]
  },
  {
   "cell_type": "code",
   "execution_count": null,
   "id": "957d82d4-b1bf-459e-a5d6-778bd629496a",
   "metadata": {},
   "outputs": [],
   "source": [
    "class ssh_PBC_bands:\n",
    "  def __init__(self,t1,t2,eps=0):\n",
    "    self.t1=t1\n",
    "    self.t2=t2\n",
    "    self.eps=eps\n",
    "    self.nrofbands=2\n",
    "  def bands(self,k):\n",
    "    return [-np.sqrt(self.eps**2+self.t1**2+self.t2**2+2*self.t1*self.t2*np.cos(k)),np.sqrt(self.eps**2+self.t1**2+self.t2**2+2*self.t1*self.t2*np.cos(k))]\n",
    "  def H12(self,k):\n",
    "    return self.t1+self.t2*np.exp(1j*k)\n",
    "  def plot_bands(self,kmin,kmax,newt1,newt2):\n",
    "    self.t1=newt1\n",
    "    self.t2=newt2\n",
    "    ks = np.linspace(kmin, kmax)\n",
    "    spectrum=np.empty((len(ks),self.nrofbands))\n",
    "    for i in range(len(ks)):\n",
    "      spectrum[i]=(self.bands(ks[i])/np.abs(self.t1))\n",
    "    spectrum=np.transpose(spectrum)\n",
    "    #print(spectrum)\n",
    "    ### Plot\n",
    "    fig, ax=plt.subplots(1,2,figsize=(6,4))\n",
    "    ax[0].set_xlim(kmin, kmax)\n",
    "    ax[0].set_xticks(np.arange(np.ceil(kmin),np.ceil(kmax)))\n",
    "    ax[0].set_xlabel(\"$k$\")\n",
    "    ymax = 1.1*(np.abs(self.t1)+np.abs(self.t2))\n",
    "    ax[0].set_ylim(-ymax, ymax)\n",
    "    ax[0].set_yticks([-np.abs(self.t1+self.t2),0,np.abs(self.t1+self.t2),np.abs(self.t1-self.t2)])\n",
    "    ax[0].set_ylabel(\"$E/|t_1|$\")\n",
    "    ax[0].set_title(\"Infinite chain bands: $t_1=$\"+str(self.t1)+\", $t_2=$\"+str(self.t2))\n",
    "    ###\n",
    "    for i in range(self.nrofbands):\n",
    "      ax[0].plot(ks, spectrum[i], \"black\")\n",
    "\n",
    "    emax=1.1*(np.abs(self.t1)+np.abs(self.t2))\n",
    "    ax[1].set_aspect('equal','box')\n",
    "    ax[1].set_xlim(-emax,emax)\n",
    "    ax[1].set_xticks([-np.abs(self.t1)-np.abs(self.t2),0,np.abs(self.t1)+np.abs(self.t2)])\n",
    "    ax[1].set_xlabel(\"Re[$H_{12}(k)$]\")\n",
    "    ax[1].set_ylim(-emax,emax)\n",
    "    ax[1].set_yticks([-np.abs(self.t1)-np.abs(self.t2),0,np.abs(self.t1)+np.abs(self.t2)])\n",
    "    ax[1].set_ylabel(\"Im[$H_{12}(k)$]\")\n",
    "    ax[1].set_title(\"Winding: $t_1=$\"+str(self.t1)+\", $t_2=$\"+str(self.t2))\n",
    "    ###\n",
    "    ax[1].plot(np.real(self.H12(ks)),np.imag(self.H12(ks)), \"blue\")\n",
    "    ax[1].scatter([0],[0])\n",
    "\n",
    "    plt.tight_layout()\n",
    "    plt.show()\n",
    "\n",
    "#CHECK the PBC spectrum\n",
    "#testm=sp.Matrix([[eps, t1+t2*exp(1j*k)], [t1+t2*exp(-1j*k), -eps]])\n",
    "#t1, t2, k, eps = sp.symbols('t1 t2 k eps')\n",
    "#print(\"Eigenvalues:\")\n",
    "#print(testm.eigenvals())"
   ]
  },
  {
   "cell_type": "code",
   "execution_count": null,
   "id": "57278457-3d9c-4733-a901-e3c0ca89d80c",
   "metadata": {},
   "outputs": [],
   "source": [
    "eps=0\n",
    "ssh_PBC_bands(1,0.1,eps).plot_bands(-Pi,Pi,1,0.1)\n",
    "ssh_PBC_bands(1,1.1,eps).plot_bands(-Pi,Pi,1,1.1)"
   ]
  },
  {
   "cell_type": "markdown",
   "id": "e9d2b54e-960b-49ad-b511-f1383d5e2adc",
   "metadata": {},
   "source": [
    "### Interactive bands\n",
    "A slider to change value of $t_2$ in real-time, with fixed values $t_1,\\epsilon$."
   ]
  },
  {
   "cell_type": "code",
   "execution_count": null,
   "id": "d1b7aac4-2146-46dd-b951-7ac3dd8298f8",
   "metadata": {},
   "outputs": [],
   "source": [
    "t1=1\n",
    "intb=ssh_PBC_bands(t1,0,0)\n",
    "def f(t2):\n",
    "    return intb.plot_bands(-Pi,Pi,t1,t2)\n",
    "interact(f,t2=widgets.FloatSlider(min=-2,max=2,step=0.05,value=0));"
   ]
  },
  {
   "cell_type": "markdown",
   "id": "29f45e71-c8d9-4c6d-a8e0-eaa102ef8391",
   "metadata": {},
   "source": [
    "-------------------"
   ]
  }
 ],
 "metadata": {
  "kernelspec": {
   "display_name": "Python 3 (ipykernel)",
   "language": "python",
   "name": "python3"
  },
  "language_info": {
   "codemirror_mode": {
    "name": "ipython",
    "version": 3
   },
   "file_extension": ".py",
   "mimetype": "text/x-python",
   "name": "python",
   "nbconvert_exporter": "python",
   "pygments_lexer": "ipython3",
   "version": "3.9.7"
  }
 },
 "nbformat": 4,
 "nbformat_minor": 5
}
